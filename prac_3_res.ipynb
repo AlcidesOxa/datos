{
  "nbformat": 4,
  "nbformat_minor": 0,
  "metadata": {
    "colab": {
      "name": "prac_3_res.ipynb",
      "provenance": [],
      "collapsed_sections": [],
      "authorship_tag": "ABX9TyPAws21EFlz+QU9FX6rvhDw"
    },
    "kernelspec": {
      "name": "python3",
      "display_name": "Python 3"
    }
  },
  "cells": [
    {
      "cell_type": "code",
      "metadata": {
        "id": "N79PpJATgxc2",
        "colab_type": "code",
        "colab": {}
      },
      "source": [
        "import pandas as pd\n",
        "import numpy as np\n",
        "from sklearn.linear_model import LinearRegression\n",
        "from sklearn.metrics import mean_squared_error\n",
        "from sklearn.preprocessing import PolynomialFeatures"
      ],
      "execution_count": 2,
      "outputs": []
    },
    {
      "cell_type": "code",
      "metadata": {
        "id": "AJrbDr4zi9O5",
        "colab_type": "code",
        "colab": {}
      },
      "source": [
        "Estudiantes = pd.read_csv(\"/content/sample_data/student-mat.csv\")"
      ],
      "execution_count": 3,
      "outputs": []
    },
    {
      "cell_type": "code",
      "metadata": {
        "id": "MNAQng-HjBfM",
        "colab_type": "code",
        "colab": {}
      },
      "source": [
        "var_exp_cuant = ['age', 'studytime', 'absences']\n",
        "X = Estudiantes[var_exp_cuant]\n",
        "Y = Estudiantes.G1"
      ],
      "execution_count": null,
      "outputs": []
    },
    {
      "cell_type": "code",
      "metadata": {
        "id": "c2FpSSTxjM0o",
        "colab_type": "code",
        "colab": {
          "base_uri": "https://localhost:8080/",
          "height": 71
        },
        "outputId": "c440281d-2891-4b8a-b8d7-d2ebc78eebba"
      },
      "source": [
        "reg = LinearRegression()\n",
        "modeloreg = reg.fit(X, Y)\n",
        "R2 = modeloreg.score(X, Y)\n",
        "n, k = np.shape(X)\n",
        "k = k + 1\n",
        "R2a = 1 - (n-1)/(n-k)*(1-R2)\n",
        "Yp = modeloreg.predict(X)\n",
        "MSE = mean_squared_error(Y, Yp)\n",
        "print('R2:', R2)\n",
        "print('R2a:', R2a)\n",
        "print('MSE:', MSE)"
      ],
      "execution_count": 7,
      "outputs": [
        {
          "output_type": "stream",
          "text": [
            "R2: 0.029918130814601932\n",
            "R2a: 0.022475047419317495\n",
            "MSE: 10.660386807212795\n"
          ],
          "name": "stdout"
        }
      ]
    },
    {
      "cell_type": "code",
      "metadata": {
        "id": "ygb8XhhajS2Z",
        "colab_type": "code",
        "colab": {
          "base_uri": "https://localhost:8080/",
          "height": 124
        },
        "outputId": "36b7855f-1969-4472-bf47-b2ef9bda69c2"
      },
      "source": [
        "for i in range(1, 4):\n",
        "    Xi = PolynomialFeatures(i).fit_transform(X)\n",
        "    m1 = reg.fit(Xi, Y)\n",
        "    Yp = m1.predict(Xi)\n",
        "    print('R2 de la regresión', i, ':', m1.score(Xi, Y))\n",
        "    print('MSE de la regresión', i, ':', mean_squared_error(Y, Yp))"
      ],
      "execution_count": 9,
      "outputs": [
        {
          "output_type": "stream",
          "text": [
            "R2 de la regresión 1 : 0.029918130814601932\n",
            "MSE de la regresión 1 : 10.660386807212795\n",
            "R2 de la regresión 2 : 0.06284183245501651\n",
            "MSE de la regresión 2 : 10.298582916468181\n",
            "R2 de la regresión 3 : 0.09513262750017948\n",
            "MSE de la regresión 3 : 9.943734138825395\n"
          ],
          "name": "stdout"
        }
      ]
    },
    {
      "cell_type": "code",
      "metadata": {
        "id": "91VVJtBLjV8W",
        "colab_type": "code",
        "colab": {
          "base_uri": "https://localhost:8080/",
          "height": 71
        },
        "outputId": "78a98e02-a1d9-4ed7-b033-f743084409cd"
      },
      "source": [
        "var_exp_cat = ['sex', 'famsup']\n",
        "D = pd.get_dummies(Estudiantes[var_exp_cat])\n",
        "XD = pd.concat([X, D], axis = 1)\n",
        "modeloreg2 = reg.fit(XD, Y)\n",
        "R2 = modeloreg2.score(XD, Y)\n",
        "n, k = np.shape(XD)\n",
        "k = k + 1\n",
        "R2a = 1 - (n-1)/(n-k)*(1-R2)\n",
        "Yp = modeloreg.predict(XD)\n",
        "MSE = mean_squared_error(Y, Yp)\n",
        "print('R2:', R2)\n",
        "print('R2a:', R2a)\n",
        "print('MSE:', MSE)"
      ],
      "execution_count": 13,
      "outputs": [
        {
          "output_type": "stream",
          "text": [
            "R2: 0.061766729570304824\n",
            "R2a: 0.04479610193979344\n",
            "MSE: 10.31039739622771\n"
          ],
          "name": "stdout"
        }
      ]
    }
  ]
}