{
  "nbformat": 4,
  "nbformat_minor": 0,
  "metadata": {
    "colab": {
      "name": "Model evaluation.ipynb",
      "provenance": [],
      "collapsed_sections": [],
      "authorship_tag": "ABX9TyND8yAvCptahLRhv+plUKpZ"
    },
    "kernelspec": {
      "name": "python3",
      "display_name": "Python 3"
    }
  },
  "cells": [
    {
      "cell_type": "code",
      "metadata": {
        "id": "H5RpQ_HsPXrk",
        "colab_type": "code",
        "colab": {}
      },
      "source": [
        "import pandas as pd\n",
        "import numpy as np\n",
        "from sklearn.linear_model import LinearRegression, Ridge, Lasso #importa la regresión lineal, la regresión ridge y la regresión lasso\n",
        "from sklearn.metrics import mean_squared_error #Para calcular el error cuadrático medio\n",
        "from sklearn.preprocessing import StandardScaler, PolynomialFeatures #Para estandarizar variables y obtener términos polinomiales\n",
        "from sklearn.model_selection import cross_val_score, GridSearchCV, train_test_split, RandomizedSearchCV\n",
        "import matplotlib.pyplot as plt #Para algunos gráficos"
      ],
      "execution_count": 1,
      "outputs": []
    },
    {
      "cell_type": "code",
      "metadata": {
        "id": "R3kLFo75PbQa",
        "colab_type": "code",
        "colab": {
          "base_uri": "https://localhost:8080/",
          "height": 326
        },
        "outputId": "d613ca4e-2d55-4248-9b40-f44cc3881d46"
      },
      "source": [
        "Empleados=pd.read_csv(\"https://raw.githubusercontent.com/AlcidesOxa/datos/master/ejemplo.csv\",sep=';',encoding=\"ISO-8859-1\")\n",
        "Empleados.head()"
      ],
      "execution_count": 2,
      "outputs": [
        {
          "output_type": "execute_result",
          "data": {
            "text/html": [
              "<div>\n",
              "<style scoped>\n",
              "    .dataframe tbody tr th:only-of-type {\n",
              "        vertical-align: middle;\n",
              "    }\n",
              "\n",
              "    .dataframe tbody tr th {\n",
              "        vertical-align: top;\n",
              "    }\n",
              "\n",
              "    .dataframe thead th {\n",
              "        text-align: right;\n",
              "    }\n",
              "</style>\n",
              "<table border=\"1\" class=\"dataframe\">\n",
              "  <thead>\n",
              "    <tr style=\"text-align: right;\">\n",
              "      <th></th>\n",
              "      <th>Nombres</th>\n",
              "      <th>Apellidos</th>\n",
              "      <th>Sexo</th>\n",
              "      <th>Edad</th>\n",
              "      <th>Años estudio</th>\n",
              "      <th>Ingresos</th>\n",
              "      <th>Gastos</th>\n",
              "      <th>Estado Civil</th>\n",
              "      <th>Satisfacción Trabajo</th>\n",
              "      <th>Fecha contrato</th>\n",
              "      <th>Faltas</th>\n",
              "      <th>Permisos</th>\n",
              "    </tr>\n",
              "  </thead>\n",
              "  <tbody>\n",
              "    <tr>\n",
              "      <th>0</th>\n",
              "      <td>Pablo Enrique</td>\n",
              "      <td>Barrientos Gómez</td>\n",
              "      <td>Hombre</td>\n",
              "      <td>53.0</td>\n",
              "      <td>5.0</td>\n",
              "      <td>3662.0</td>\n",
              "      <td>2955.0</td>\n",
              "      <td>Divorciado(a)</td>\n",
              "      <td>Regular</td>\n",
              "      <td>6/5/2010</td>\n",
              "      <td>1.0</td>\n",
              "      <td>NaN</td>\n",
              "    </tr>\n",
              "    <tr>\n",
              "      <th>1</th>\n",
              "      <td>Teresa Marina</td>\n",
              "      <td>Bracamonte Palma</td>\n",
              "      <td>Mujer</td>\n",
              "      <td>NaN</td>\n",
              "      <td>23.0</td>\n",
              "      <td>NaN</td>\n",
              "      <td>NaN</td>\n",
              "      <td>Soltero(a)</td>\n",
              "      <td>NaN</td>\n",
              "      <td>NaN</td>\n",
              "      <td>NaN</td>\n",
              "      <td>2.0</td>\n",
              "    </tr>\n",
              "    <tr>\n",
              "      <th>2</th>\n",
              "      <td>Vicente</td>\n",
              "      <td>Cardoso Zerda</td>\n",
              "      <td>Hombre</td>\n",
              "      <td>39.0</td>\n",
              "      <td>7.0</td>\n",
              "      <td>4063.0</td>\n",
              "      <td>4180.0</td>\n",
              "      <td>Casado(a)</td>\n",
              "      <td>Mal</td>\n",
              "      <td>18/4/2009</td>\n",
              "      <td>NaN</td>\n",
              "      <td>NaN</td>\n",
              "    </tr>\n",
              "    <tr>\n",
              "      <th>3</th>\n",
              "      <td>Juan José</td>\n",
              "      <td>Ceballos</td>\n",
              "      <td>Hombre</td>\n",
              "      <td>NaN</td>\n",
              "      <td>7.0</td>\n",
              "      <td>NaN</td>\n",
              "      <td>NaN</td>\n",
              "      <td>NaN</td>\n",
              "      <td>NaN</td>\n",
              "      <td>NaN</td>\n",
              "      <td>NaN</td>\n",
              "      <td>NaN</td>\n",
              "    </tr>\n",
              "    <tr>\n",
              "      <th>4</th>\n",
              "      <td>Raúl Sergio</td>\n",
              "      <td>Claros Gonzáles</td>\n",
              "      <td>Hombre</td>\n",
              "      <td>55.0</td>\n",
              "      <td>20.0</td>\n",
              "      <td>15479.0</td>\n",
              "      <td>9344.0</td>\n",
              "      <td>Divorciado(a)</td>\n",
              "      <td>Bien</td>\n",
              "      <td>12/8/2017</td>\n",
              "      <td>NaN</td>\n",
              "      <td>1.0</td>\n",
              "    </tr>\n",
              "  </tbody>\n",
              "</table>\n",
              "</div>"
            ],
            "text/plain": [
              "         Nombres         Apellidos    Sexo  ...  Fecha contrato  Faltas  Permisos\n",
              "0  Pablo Enrique  Barrientos Gómez  Hombre  ...        6/5/2010     1.0       NaN\n",
              "1  Teresa Marina  Bracamonte Palma   Mujer  ...             NaN     NaN       2.0\n",
              "2        Vicente     Cardoso Zerda  Hombre  ...       18/4/2009     NaN       NaN\n",
              "3      Juan José          Ceballos  Hombre  ...             NaN     NaN       NaN\n",
              "4    Raúl Sergio   Claros Gonzáles  Hombre  ...       12/8/2017     NaN       1.0\n",
              "\n",
              "[5 rows x 12 columns]"
            ]
          },
          "metadata": {
            "tags": []
          },
          "execution_count": 2
        }
      ]
    },
    {
      "cell_type": "code",
      "metadata": {
        "id": "Yxj7hLdd4MSg",
        "colab_type": "code",
        "colab": {}
      },
      "source": [
        "cambio={'Años estudio':'Anios_estudio', 'Estado Civil':'Estado_civil', 'Satisfacción Trabajo':'Satisfaccion_trabajo', 'Fecha contrato':'Fecha_contrato'}\n",
        "Empleados.rename(columns=cambio,inplace=True)\n",
        "casosborrar=[3,5,8]\n",
        "Empleados=Empleados.drop(casosborrar)\n",
        "varborrar=['Faltas','Permisos']\n",
        "Empleados=Empleados.drop(varborrar,axis=1)\n",
        "varcategoricas=['Sexo','Estado_civil','Satisfaccion_trabajo']\n",
        "Empleados[varcategoricas]=Empleados[varcategoricas].astype('category')\n",
        "Empleados['Fecha_contrato']=pd.to_datetime(Empleados.Fecha_contrato)\n",
        "Empleados['Experiencia_lab']=Empleados.Edad-Empleados.Anios_estudio-5\n",
        "Empleados['Balance']=Empleados.Ingresos-Empleados.Gastos"
      ],
      "execution_count": 3,
      "outputs": []
    },
    {
      "cell_type": "markdown",
      "metadata": {
        "id": "KARu4LKtfqSQ",
        "colab_type": "text"
      },
      "source": [
        "# Evaluación del modelo"
      ]
    },
    {
      "cell_type": "markdown",
      "metadata": {
        "id": "JOqp89FTJCOA",
        "colab_type": "text"
      },
      "source": [
        "## Variables del modelo"
      ]
    },
    {
      "cell_type": "code",
      "metadata": {
        "id": "V4HPjzv9veUu",
        "colab_type": "code",
        "colab": {
          "base_uri": "https://localhost:8080/",
          "height": 203
        },
        "outputId": "7a611416-d29c-4805-93c6-b97708c96f72"
      },
      "source": [
        "# Lista de las variables del modelo (dependiente e independientes)\n",
        "vars_mod = ['Ingresos', 'Edad', 'Sexo', 'Anios_estudio', 'Estado_civil']\n",
        "# Lista de variables independientes categóricas\n",
        "vars_cat_mod = ['Sexo', 'Estado_civil']\n",
        "# Lista de variables independientes cuantitativas\n",
        "vars_cuant_mod = ['Edad', 'Anios_estudio']\n",
        "# Elimina los datos perdidos del conjunto de variables del modelo\n",
        "# Datos es un dataframe que sólo contiene variables del modelo y sin datos perdidos\n",
        "Datos = Empleados[vars_mod].dropna()\n",
        "Datos.head()"
      ],
      "execution_count": 5,
      "outputs": [
        {
          "output_type": "execute_result",
          "data": {
            "text/html": [
              "<div>\n",
              "<style scoped>\n",
              "    .dataframe tbody tr th:only-of-type {\n",
              "        vertical-align: middle;\n",
              "    }\n",
              "\n",
              "    .dataframe tbody tr th {\n",
              "        vertical-align: top;\n",
              "    }\n",
              "\n",
              "    .dataframe thead th {\n",
              "        text-align: right;\n",
              "    }\n",
              "</style>\n",
              "<table border=\"1\" class=\"dataframe\">\n",
              "  <thead>\n",
              "    <tr style=\"text-align: right;\">\n",
              "      <th></th>\n",
              "      <th>Ingresos</th>\n",
              "      <th>Edad</th>\n",
              "      <th>Sexo</th>\n",
              "      <th>Anios_estudio</th>\n",
              "      <th>Estado_civil</th>\n",
              "    </tr>\n",
              "  </thead>\n",
              "  <tbody>\n",
              "    <tr>\n",
              "      <th>0</th>\n",
              "      <td>3662.0</td>\n",
              "      <td>53.0</td>\n",
              "      <td>Hombre</td>\n",
              "      <td>5.0</td>\n",
              "      <td>Divorciado(a)</td>\n",
              "    </tr>\n",
              "    <tr>\n",
              "      <th>2</th>\n",
              "      <td>4063.0</td>\n",
              "      <td>39.0</td>\n",
              "      <td>Hombre</td>\n",
              "      <td>7.0</td>\n",
              "      <td>Casado(a)</td>\n",
              "    </tr>\n",
              "    <tr>\n",
              "      <th>4</th>\n",
              "      <td>15479.0</td>\n",
              "      <td>55.0</td>\n",
              "      <td>Hombre</td>\n",
              "      <td>20.0</td>\n",
              "      <td>Divorciado(a)</td>\n",
              "    </tr>\n",
              "    <tr>\n",
              "      <th>6</th>\n",
              "      <td>7553.0</td>\n",
              "      <td>30.0</td>\n",
              "      <td>Mujer</td>\n",
              "      <td>18.0</td>\n",
              "      <td>Soltero(a)</td>\n",
              "    </tr>\n",
              "    <tr>\n",
              "      <th>7</th>\n",
              "      <td>11612.0</td>\n",
              "      <td>33.0</td>\n",
              "      <td>Mujer</td>\n",
              "      <td>23.0</td>\n",
              "      <td>Casado(a)</td>\n",
              "    </tr>\n",
              "  </tbody>\n",
              "</table>\n",
              "</div>"
            ],
            "text/plain": [
              "   Ingresos  Edad    Sexo  Anios_estudio   Estado_civil\n",
              "0    3662.0  53.0  Hombre            5.0  Divorciado(a)\n",
              "2    4063.0  39.0  Hombre            7.0      Casado(a)\n",
              "4   15479.0  55.0  Hombre           20.0  Divorciado(a)\n",
              "6    7553.0  30.0   Mujer           18.0     Soltero(a)\n",
              "7   11612.0  33.0   Mujer           23.0      Casado(a)"
            ]
          },
          "metadata": {
            "tags": []
          },
          "execution_count": 5
        }
      ]
    },
    {
      "cell_type": "code",
      "metadata": {
        "id": "ZpfLhrwKZabh",
        "colab_type": "code",
        "colab": {
          "base_uri": "https://localhost:8080/",
          "height": 34
        },
        "outputId": "4f15ac48-e671-4a8b-ef7b-fd00b6c19728"
      },
      "source": [
        "# Obtiene la matriz X de variables cuantitativas independientes\n",
        "X = Datos[vars_cuant_mod]\n",
        "# Obtiene el vector Y, de la variable dependiente\n",
        "Y = Datos.Ingresos\n",
        "#dimensión de X\n",
        "np.shape(X)"
      ],
      "execution_count": 9,
      "outputs": [
        {
          "output_type": "execute_result",
          "data": {
            "text/plain": [
              "(24, 2)"
            ]
          },
          "metadata": {
            "tags": []
          },
          "execution_count": 9
        }
      ]
    },
    {
      "cell_type": "markdown",
      "metadata": {
        "id": "xcM2yCz_sPri",
        "colab_type": "text"
      },
      "source": [
        "## Conjuntos de entrenamiento y de prueba"
      ]
    },
    {
      "cell_type": "code",
      "metadata": {
        "id": "k37HjZ9mpD8m",
        "colab_type": "code",
        "colab": {}
      },
      "source": [
        "#Divide el conjunto de datos en datos de entrenamiento y de prueba\n",
        "Xen, Xpr, Yen, Ypr = train_test_split(X, Y)\n",
        "np.shape(Xen)\n",
        "np.shape(Xpr)\n",
        "#Para otros tamaños del conjunto de prueba, por ej 20%\n",
        "Xen, Xpr, Yen, Ypr = train_test_split(X, Y, test_size=0.4)"
      ],
      "execution_count": null,
      "outputs": []
    },
    {
      "cell_type": "markdown",
      "metadata": {
        "id": "Kt-slQlcvL7Q",
        "colab_type": "text"
      },
      "source": [
        "## Evaluación dentro y fuera de la muestra de entrenamiento"
      ]
    },
    {
      "cell_type": "code",
      "metadata": {
        "id": "rQ-1BKYhtZm-",
        "colab_type": "code",
        "colab": {
          "base_uri": "https://localhost:8080/",
          "height": 34
        },
        "outputId": "ed471be0-adee-40fa-996e-9670d7827d15"
      },
      "source": [
        "reg = LinearRegression()\n",
        "reg.fit(Xen, Yen) #Ajuste del modelo lineal con los datos de entrenamiento\n",
        "Yen_p = reg.predict(Xen) #Predicción con datos de entrenamiento\n",
        "Ypr_p = reg.predict(Xpr) #Predicción con datos de prueba\n",
        "#imprime los errores cuadráticos medios de entrenamiento y de prueba\n",
        "print('MSE entrenamiento:', mean_squared_error(Yen_p, Yen), 'MSE prueba', mean_squared_error(Ypr_p, Ypr))"
      ],
      "execution_count": 20,
      "outputs": [
        {
          "output_type": "stream",
          "text": [
            "MSE entrenamiento: 375791.3757633422 MSE prueba 1620896.935102719\n"
          ],
          "name": "stdout"
        }
      ]
    },
    {
      "cell_type": "markdown",
      "metadata": {
        "id": "G0oJ8WQJnKCK",
        "colab_type": "text"
      },
      "source": [
        "# Validación cruzada"
      ]
    },
    {
      "cell_type": "markdown",
      "metadata": {
        "id": "tYFupNPamT4P",
        "colab_type": "text"
      },
      "source": [
        "Es una técnica que consiste en dividir los datos de la muestra en $K$ conjuntos de datos. Luego utilizar $K-1$ de estos conjuntos para entrenar el modelo de predicción, y seleccionar el restante para probar la efectividad de la predicción. Esto se realiza repetidamente con cada uno de los conjuntos de datos en el papel de prueba, y el resto como entrenamiento. Se guardan los resultados de cada iteración, luego se obtiene un indicador resumen de éstos resultados, generalmente la media para evaluar la predicción que realiza el modelo en general.\n",
        "Éste método se denomina $K$-fold cross validation. Un ejemplo de $K=5$ es:"
      ]
    },
    {
      "cell_type": "markdown",
      "metadata": {
        "id": "6AeTPCYkmdIs",
        "colab_type": "text"
      },
      "source": [
        "![valcruz](https://static.packt-cdn.com/products/9781789617740/graphics/b04c27c5-7e3f-428a-9aa6-bb3ebcd3584c.png)"
      ]
    },
    {
      "cell_type": "code",
      "metadata": {
        "id": "AGcnoNNTqGlQ",
        "colab_type": "code",
        "colab": {
          "base_uri": "https://localhost:8080/",
          "height": 68
        },
        "outputId": "406cf001-5a5b-428c-dbaa-5b10d929c8a8"
      },
      "source": [
        "# Crea la instancia reg de Regresión Lineal\n",
        "reg = LinearRegression()\n",
        "# aplica la validación cruzada al modelo de regresión lineal \"reg\" y utiliza como criterio\n",
        "# el negativo del error cuadrático medio\n",
        "mses = cross_val_score(reg, X, Y, scoring='neg_mean_squared_error', cv=5)\n",
        "mses = -mses\n",
        "print(mses)\n",
        "print(np.mean(mses))"
      ],
      "execution_count": 27,
      "outputs": [
        {
          "output_type": "stream",
          "text": [
            "[1733606.9538366   530793.77067227  192672.27518642  860107.1291615\n",
            " 1079741.9273907 ]\n",
            "879384.4112494988\n"
          ],
          "name": "stdout"
        }
      ]
    },
    {
      "cell_type": "markdown",
      "metadata": {
        "id": "ktOr1Vf6yBZw",
        "colab_type": "text"
      },
      "source": [
        "# Métodos de contracción"
      ]
    },
    {
      "cell_type": "markdown",
      "metadata": {
        "id": "9-MNUylTyX7S",
        "colab_type": "text"
      },
      "source": [
        "Los métodos de contracción aumentan el sesgo de los estimadores, pero por el contrario disminuyen sus varianzas. En general, en un modelo de regresión lineal, se da el caso de que estimadores sesgados pero con poca varianza brindan mejores predicciones que modelos insesgados. Dos métodos de contracción (shrinkage) muy utilizados son la regresión Ridge y la regresión Lasso."
      ]
    },
    {
      "cell_type": "markdown",
      "metadata": {
        "id": "dfEd63h6XpaX",
        "colab_type": "text"
      },
      "source": [
        "## Regresión Ridge"
      ]
    },
    {
      "cell_type": "markdown",
      "metadata": {
        "id": "pMGv9-saX4su",
        "colab_type": "text"
      },
      "source": [
        "Para el modelo de regresión lineal $Y=X\\beta$, la estimación ridge consiste en minimizar la función de pérdida de mínimos cuadrados ordinarios sujeto a una restricción, es decir, minimizar la suma de cuadrados de los residuales $\\left( Y-X\\beta \\right) ^{\\prime }\\left( Y-X\\beta \\right)$ sujeto a que $\\beta^{\\prime }\\beta=c$. La función lagrangeana es\n",
        "\\begin{equation*}\n",
        "L=\\left( Y-X\\beta \\right) ^{\\prime }\\left( Y-X\\beta \\right) +\\lambda \\beta^{\\prime }\\beta\n",
        "\\end{equation*}\n",
        "resolviendo éste problema de optimización se obtiene que el estimador es\n",
        "\\begin{equation*}\n",
        "\\widehat{\\beta }=\\left( X^{\\prime }X+\\lambda I\\right) ^{-1}X^{\\prime}Y\n",
        "\\end{equation*}\n",
        "Es importante apuntar que la matriz $X$ en este caso, sólo incluye las variables explicativas, no la constante."
      ]
    },
    {
      "cell_type": "code",
      "metadata": {
        "id": "r72PrHWzpU_2",
        "colab_type": "code",
        "colab": {
          "base_uri": "https://localhost:8080/",
          "height": 51
        },
        "outputId": "31c4c7e3-33c0-4456-b3bb-b8c401ecefa0"
      },
      "source": [
        "#Conjunto de los valores de lambda del 1 al 99\n",
        "lambdas = {'alpha': np.arange(1, 100)}\n",
        "#Búsqueda del mejor valor del hiperparámetro lambda con validación cruzada de 5 grupos de prueba\n",
        "ridges = GridSearchCV(Ridge(), lambdas, scoring='neg_mean_squared_error', cv=5)\n",
        "#Ajuste con el mejor lambda hallado, el que hace mejor predicción\n",
        "ridges.fit(X, Y)\n",
        "print(ridges.best_params_) #visualiza el mejor lambda\n",
        "print(ridges.best_score_) #visualiza el mejor -MSE"
      ],
      "execution_count": 30,
      "outputs": [
        {
          "output_type": "stream",
          "text": [
            "{'alpha': 9}\n",
            "-876211.59238277\n"
          ],
          "name": "stdout"
        }
      ]
    },
    {
      "cell_type": "markdown",
      "metadata": {
        "id": "uLMSu6hdYjQj",
        "colab_type": "text"
      },
      "source": [
        "## Regresión Lasso"
      ]
    },
    {
      "cell_type": "markdown",
      "metadata": {
        "id": "vFBhiPADYyeF",
        "colab_type": "text"
      },
      "source": [
        "Para el modelo de regresión lineal $Y=X\\beta$, la estimación Lasso se trata de minimizar la función de pérdida de la suma de cuadrados de los residuales $\\left( Y-X\\beta \\right) ^{\\prime }\\left( Y-X\\beta \\right)$ sujeto a que $\\sum_{j=2}^{k}\\left\\vert \\beta _{j}\\right\\vert=c$. La función lagrangeana es\n",
        "\\begin{equation*}\n",
        "L=\\left( Y-X\\beta \\right) ^{\\prime }\\left( Y-X\\beta \\right) +\\lambda\n",
        "\\sum_{j=2}^{k}\\left\\vert \\beta _{j}\\right\\vert\n",
        "\\end{equation*}\n",
        "Éste es un problema de programación cuadrática y se resuelve como tal."
      ]
    },
    {
      "cell_type": "code",
      "metadata": {
        "id": "awxHH34313B-",
        "colab_type": "code",
        "colab": {
          "base_uri": "https://localhost:8080/",
          "height": 51
        },
        "outputId": "9b7f27b7-171d-4161-8b6b-ebd0dbed4a90"
      },
      "source": [
        "alfas = {'alpha': np.arange(1, 100)}\n",
        "lasos = GridSearchCV(Lasso(), alfas, scoring='neg_mean_squared_error', cv=5)\n",
        "lasos.fit(X, Y)\n",
        "print(lasos.best_params_)\n",
        "print(lasos.best_score_)"
      ],
      "execution_count": 31,
      "outputs": [
        {
          "output_type": "stream",
          "text": [
            "{'alpha': 99}\n",
            "-876177.2388942052\n"
          ],
          "name": "stdout"
        }
      ]
    },
    {
      "cell_type": "markdown",
      "metadata": {
        "id": "a3oFQP2Gfv8j",
        "colab_type": "text"
      },
      "source": [
        "# Comparando varios modelos"
      ]
    },
    {
      "cell_type": "markdown",
      "metadata": {
        "id": "wVcQpwF_GYhV",
        "colab_type": "text"
      },
      "source": [
        "## Función comparativa"
      ]
    },
    {
      "cell_type": "code",
      "metadata": {
        "id": "G-5l6Fn6Z0bK",
        "colab_type": "code",
        "colab": {}
      },
      "source": [
        "def modelos(X,Y): #Función denominada \"modelos\" que recibe parámetros X y Y\n",
        "  reg = LinearRegression()\n",
        "  mses = cross_val_score(reg, X, Y, scoring='neg_mean_squared_error', cv=5)\n",
        "  lambdas = {'alpha': np.arange(1, 100)}\n",
        "  rid = Ridge(normalize = True) #Establece que se estandaricen las variables del modelo\n",
        "  ridges = GridSearchCV(rid, lambdas, scoring='neg_mean_squared_error', cv=5)\n",
        "  ridges.fit(X, Y)\n",
        "  las = Lasso(normalize = True)\n",
        "  lasos = GridSearchCV(las, lambdas, scoring='neg_mean_squared_error', cv=5,)\n",
        "  lasos.fit(X, Y)\n",
        "  print('reg lineal: ', np.mean(mses))\n",
        "  print('hiperparam ridge: ', ridges.best_params_)\n",
        "  print('reg ridge: ',ridges.best_score_)\n",
        "  print('hiperparam lasso: ', lasos.best_params_)\n",
        "  print('reg lasso: ',lasos.best_score_)"
      ],
      "execution_count": 32,
      "outputs": []
    },
    {
      "cell_type": "markdown",
      "metadata": {
        "id": "OHNcZkrNGj9W",
        "colab_type": "text"
      },
      "source": [
        "## Añadiendo variables dicotómicas"
      ]
    },
    {
      "cell_type": "code",
      "metadata": {
        "id": "qkZgJl-Sx4yW",
        "colab_type": "code",
        "colab": {
          "base_uri": "https://localhost:8080/",
          "height": 103
        },
        "outputId": "1af8397c-2bd9-4373-f07b-c66571bc2482"
      },
      "source": [
        "# Crea un dataframe de variables dicotómicas denominado Dicos, y elimina la primera\n",
        "# categoría de cada variable categórica\n",
        "Dicos = pd.get_dummies(Datos[vars_cat_mod], drop_first = True)\n",
        "# Concatena los dataframes Dicos y Datos (solo variables cuantitativas independientes)\n",
        "X = pd.concat([Dicos, Datos[vars_cuant_mod]], axis=1) #axis=1 es por columnas\n",
        "Y = Datos.Ingresos\n",
        "modelos(X,Y) #llama a la función modelos y pasa los X y Y previamente construidos"
      ],
      "execution_count": 36,
      "outputs": [
        {
          "output_type": "stream",
          "text": [
            "reg lineal:  -848001.4760779161\n",
            "hiperparam ridge:  {'alpha': 1}\n",
            "reg ridge:  -3865059.8536674296\n",
            "hiperparam lasso:  {'alpha': 31}\n",
            "reg lasso:  -717964.8310868747\n"
          ],
          "name": "stdout"
        }
      ]
    },
    {
      "cell_type": "markdown",
      "metadata": {
        "id": "TKtt0dTMGpq6",
        "colab_type": "text"
      },
      "source": [
        "## Añadiendo variables polinomiales"
      ]
    },
    {
      "cell_type": "code",
      "metadata": {
        "id": "Y-1UmyV4GzAt",
        "colab_type": "code",
        "colab": {
          "base_uri": "https://localhost:8080/",
          "height": 326
        },
        "outputId": "764990ec-be68-4bd2-e2f1-98ca1221c816"
      },
      "source": [
        "Y = Datos.Ingresos\n",
        "for i in range(1,4):\n",
        "  Xi = PolynomialFeatures(i).fit_transform(Datos[vars_cuant_mod]) #var cuant de grado i\n",
        "  print('Modelo polinomial para grado', i)\n",
        "  modelos(Xi, Y)"
      ],
      "execution_count": 37,
      "outputs": [
        {
          "output_type": "stream",
          "text": [
            "Modelo polinomial para grado 1\n",
            "reg lineal:  -879384.4112494976\n",
            "hiperparam ridge:  {'alpha': 1}\n",
            "reg ridge:  -3845731.097956897\n",
            "hiperparam lasso:  {'alpha': 17}\n",
            "reg lasso:  -866530.7377703845\n",
            "Modelo polinomial para grado 2\n",
            "reg lineal:  -185358.96359831508\n",
            "hiperparam ridge:  {'alpha': 1}\n",
            "reg ridge:  -1374121.1459773984\n",
            "hiperparam lasso:  {'alpha': 1}\n",
            "reg lasso:  -294802.4428324547\n",
            "Modelo polinomial para grado 3\n",
            "reg lineal:  -3498.78362468262\n",
            "hiperparam ridge:  {'alpha': 1}\n",
            "reg ridge:  -853914.5332851037\n",
            "hiperparam lasso:  {'alpha': 1}\n",
            "reg lasso:  -87040.09486964566\n"
          ],
          "name": "stdout"
        }
      ]
    },
    {
      "cell_type": "markdown",
      "metadata": {
        "id": "nBoA0yfaHih8",
        "colab_type": "text"
      },
      "source": [
        "## Combinando dicotómicas y términos polinomiales"
      ]
    },
    {
      "cell_type": "code",
      "metadata": {
        "id": "tKSiwAcQEADg",
        "colab_type": "code",
        "colab": {
          "base_uri": "https://localhost:8080/",
          "height": 326
        },
        "outputId": "8d9cb4c9-483a-4a10-a59b-3b5d8c0b67d0"
      },
      "source": [
        "Dicos = pd.get_dummies(Datos[vars_cat_mod], drop_first = True)\n",
        "Y = Datos.Ingresos\n",
        "for i in range(1,4):\n",
        "  Xi = PolynomialFeatures(i).fit_transform(Datos[vars_cuant_mod]) #var cuant de grado i\n",
        "  Xi = pd.DataFrame(Xi, index = Datos.index.values) #Transforma a X en un dataframe de pandas con index\n",
        "  Xi = pd.concat([Dicos, Xi], axis=1) #concatena por columnas Dicos y X\n",
        "  print('Modelo con dicotómicas y polinomial de grado', i)\n",
        "  modelos(Xi, Y)"
      ],
      "execution_count": 38,
      "outputs": [
        {
          "output_type": "stream",
          "text": [
            "Modelo con dicotómicas y polinomial de grado 1\n",
            "reg lineal:  -848001.4760779152\n",
            "hiperparam ridge:  {'alpha': 1}\n",
            "reg ridge:  -3865059.8536674296\n",
            "hiperparam lasso:  {'alpha': 31}\n",
            "reg lasso:  -717964.8310868746\n",
            "Modelo con dicotómicas y polinomial de grado 2\n",
            "reg lineal:  -227600.45467999502\n",
            "hiperparam ridge:  {'alpha': 1}\n",
            "reg ridge:  -1300624.500467915\n",
            "hiperparam lasso:  {'alpha': 19}\n",
            "reg lasso:  -353191.75845142605\n",
            "Modelo con dicotómicas y polinomial de grado 3\n",
            "reg lineal:  -5012.471228930982\n",
            "hiperparam ridge:  {'alpha': 1}\n",
            "reg ridge:  -677846.9781649212\n",
            "hiperparam lasso:  {'alpha': 1}\n",
            "reg lasso:  -194710.1222520163\n"
          ],
          "name": "stdout"
        }
      ]
    }
  ]
}